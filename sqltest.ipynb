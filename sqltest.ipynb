{
 "cells": [
  {
   "cell_type": "markdown",
   "source": [
    "# SQL to DataFrame\n",
    "\n",
    "### The goal of this notebook is to test connections to an Azure SQL Database.\n",
    "\n",
    "This notebook will cover connecting to an Azure SQL Database from a python notebook. Although there are many options out there as far as baked-in SQL connections (Deepnote, Datacamp Workspace, etc), I need a solution that can easily be used with a Binder enabled GitHub repository. Moving forward, I want to be able to easily switch between desktop and iOS/iPadOS without having to alter my workflow. Although I can access Deepnote and Workspace from mobile devices, it is not as fluid as utilizing Juno Connect with Binder and the Motion-Analysis repository.\n",
    "\n",
    "I'll be attempting different methods to see which is the most efficient for my workflow -- here are the options I've researched so far:\n",
    "- pyodbc\n",
    "- sqlalchemy"
   ],
   "metadata": {
    "collapsed": false
   }
  },
  {
   "cell_type": "markdown",
   "source": [
    "## pyodbc\n",
    "\n",
    "The following code is direct from Microsoft to run a test query on an Azure SQL Database utilizing <code>pyodbc</code>."
   ],
   "metadata": {
    "collapsed": false
   }
  },
  {
   "cell_type": "code",
   "execution_count": null,
   "outputs": [],
   "source": [
    "import pyodbc"
   ],
   "metadata": {
    "collapsed": false
   }
  },
  {
   "cell_type": "code",
   "execution_count": null,
   "outputs": [],
   "source": [
    "server = 'wasted-arrows.database.windows.net'\n",
    "database = 'MotionData'\n",
    "username = 'wa_dba'\n",
    "password = '{kawroj-tukbi5-zywnYz}'\n",
    "driver = '{ODBC Driver 17 for SQL Server}'\n",
    "\n",
    "\n",
    "with pyodbc.connect('DRIVER='+driver+';SERVER=tcp:'+server+';PORT=1433;DATABASE='+database+';UID='+username+';PWD='+password) as conn:\n",
    "    with conn.cursor() as cursor:\n",
    "        cursor.execute(\"SELECT TOP 3 time AS 'time', capture_date AS 'capture_date', capture_sequence AS 'capture_sequence' FROM Accelerometer ORDER BY time DESC\")\n",
    "        row = cursor.fetchone()\n",
    "        while row:\n",
    "            print(str(row[0]) + ' ' + str(row[1]) + ' ' + str(row[2]))\n",
    "            row = cursor.fetchone()\n"
   ],
   "metadata": {
    "collapsed": false
   }
  },
  {
   "cell_type": "markdown",
   "source": [
    "After testing, I turned the test code into a function that accepts a single argument. The argument it accepts is just a string of the SQL statements I wish to pass to the Database."
   ],
   "metadata": {
    "collapsed": false
   }
  },
  {
   "cell_type": "code",
   "execution_count": null,
   "outputs": [],
   "source": [
    "def motionDB(statement):\n",
    "    with pyodbc.connect('DRIVER='+driver+';SERVER=tcp:'+server+';PORT=1433;DATABASE='+database+';UID='+username+';PWD='+password) as conn:\n",
    "        with conn.cursor() as cursor:\n",
    "            cursor.execute(statement)\n",
    "            row = cursor.fetchone()\n",
    "            while row:\n",
    "                print(str(row[0]) + ' ' + str(row[1]) + ' ' + str(row[2]))\n",
    "                row = cursor.fetchone()\n"
   ],
   "metadata": {
    "collapsed": false
   }
  },
  {
   "cell_type": "code",
   "execution_count": null,
   "outputs": [],
   "source": [
    "# Return the first 10 entries of capture_sequence 4 from the Barometer table\n",
    "bartop10 = '''\n",
    "SELECT TOP 10 *\n",
    "FROM Barometer\n",
    "WHERE capture_sequence = 4\n",
    "'''"
   ],
   "metadata": {
    "collapsed": false
   }
  },
  {
   "cell_type": "code",
   "execution_count": null,
   "outputs": [],
   "source": [
    "motionDB(bartop10)"
   ],
   "metadata": {
    "collapsed": false
   }
  },
  {
   "cell_type": "markdown",
   "source": [
    "As seen by the output, the function and argument work as expected. The next step is to convert the returned info into a Pandas DataFrame."
   ],
   "metadata": {
    "collapsed": false
   }
  },
  {
   "cell_type": "markdown",
   "source": [
    "### Part 2\n",
    "\n",
    "In this part I'll play around with some answers I found on Stack Overflow <i>(see: <u>[StackOverflow: Read data from pyodbc to pandas](https://stackoverflow.com/questions/39835770/read-data-from-pyodbc-to-pandas)</u></i>)"
   ],
   "metadata": {
    "collapsed": false
   }
  },
  {
   "cell_type": "code",
   "execution_count": 62,
   "outputs": [
    {
     "name": "stderr",
     "output_type": "stream",
     "text": [
      "C:\\Users\\Kristopher\\Anaconda3\\lib\\site-packages\\pandas\\io\\sql.py:761: UserWarning: pandas only support SQLAlchemy connectable(engine/connection) ordatabase string URI or sqlite3 DBAPI2 connectionother DBAPI2 objects are not tested, please consider using SQLAlchemy\n",
      "  warnings.warn(\n"
     ]
    },
    {
     "data": {
      "text/plain": "                  time  seconds_elapsed         z         y         x  \\\n0  1667909365595406600         0.051406 -0.190607 -0.095882 -0.065918   \n1  1667909365605479400         0.061479 -0.204634 -0.103110 -0.046438   \n2  1667909365615552500         0.071552 -0.127795 -0.124551 -0.062474   \n3  1667909365625625600         0.081625 -0.049477 -0.133205 -0.099597   \n4  1667909365635698400         0.091698  0.059434 -0.130430 -0.083131   \n\n  capture_date capture_sequence  \n0   2022-11-08                6  \n1   2022-11-08                6  \n2   2022-11-08                6  \n3   2022-11-08                6  \n4   2022-11-08                6  ",
      "text/html": "<div>\n<style scoped>\n    .dataframe tbody tr th:only-of-type {\n        vertical-align: middle;\n    }\n\n    .dataframe tbody tr th {\n        vertical-align: top;\n    }\n\n    .dataframe thead th {\n        text-align: right;\n    }\n</style>\n<table border=\"1\" class=\"dataframe\">\n  <thead>\n    <tr style=\"text-align: right;\">\n      <th></th>\n      <th>time</th>\n      <th>seconds_elapsed</th>\n      <th>z</th>\n      <th>y</th>\n      <th>x</th>\n      <th>capture_date</th>\n      <th>capture_sequence</th>\n    </tr>\n  </thead>\n  <tbody>\n    <tr>\n      <th>0</th>\n      <td>1667909365595406600</td>\n      <td>0.051406</td>\n      <td>-0.190607</td>\n      <td>-0.095882</td>\n      <td>-0.065918</td>\n      <td>2022-11-08</td>\n      <td>6</td>\n    </tr>\n    <tr>\n      <th>1</th>\n      <td>1667909365605479400</td>\n      <td>0.061479</td>\n      <td>-0.204634</td>\n      <td>-0.103110</td>\n      <td>-0.046438</td>\n      <td>2022-11-08</td>\n      <td>6</td>\n    </tr>\n    <tr>\n      <th>2</th>\n      <td>1667909365615552500</td>\n      <td>0.071552</td>\n      <td>-0.127795</td>\n      <td>-0.124551</td>\n      <td>-0.062474</td>\n      <td>2022-11-08</td>\n      <td>6</td>\n    </tr>\n    <tr>\n      <th>3</th>\n      <td>1667909365625625600</td>\n      <td>0.081625</td>\n      <td>-0.049477</td>\n      <td>-0.133205</td>\n      <td>-0.099597</td>\n      <td>2022-11-08</td>\n      <td>6</td>\n    </tr>\n    <tr>\n      <th>4</th>\n      <td>1667909365635698400</td>\n      <td>0.091698</td>\n      <td>0.059434</td>\n      <td>-0.130430</td>\n      <td>-0.083131</td>\n      <td>2022-11-08</td>\n      <td>6</td>\n    </tr>\n  </tbody>\n</table>\n</div>"
     },
     "execution_count": 62,
     "metadata": {},
     "output_type": "execute_result"
    }
   ],
   "source": [
    "import pandas as pd\n",
    "\n",
    "cnxn = pyodbc.connect('Driver={ODBC Driver 17 for SQL Server};Server=tcp:wasted-arrows.database.windows.net,1433;Database=MotionData;Uid=wa_dba;Pwd={kawroj-tukbi5-zywnYz};Encrypt=yes;TrustServerCertificate=no;Connection Timeout=30;')\n",
    "sql = '''\n",
    "SELECT TOP 10 *\n",
    "FROM Accelerometer\n",
    "WHERE capture_sequence = 6'''\n",
    "data = pd.read_sql(sql,cnxn)  # without parameters [non-prepared statement]\n",
    "data.head()\n",
    "# with a prepared statement, use list/tuple/dictionary of parameters depending on DB\n",
    "#data = pd.read_sql(sql=sql, con=cnxn, params=query_params)"
   ],
   "metadata": {
    "collapsed": false
   }
  },
  {
   "cell_type": "markdown",
   "source": [
    "Testing out the last block resulted in an error. After a short time digging I discovered I was pointing to ODBC Driver 18 erroneously, the correct driver number is 17. I did also find that SQLAlchemy is the preferred package for Pandas. So with that, I'll move on to testing SQLALchemy."
   ],
   "metadata": {
    "collapsed": false
   }
  },
  {
   "cell_type": "markdown",
   "source": [
    "## SQLAlchemy\n",
    "\n",
    "The following code snippet was found while researching the error from the last block (incorrect driver, <u><i>[StackOverflow: PYODBC--Data source name not found and no default driver specified](https://stackoverflow.com/questions/46045834/pyodbc-data-source-name-not-found-and-no-default-driver-specified)</u></i>). Initially I ran into the same error with the SQLALchemny code, but that was when I discovered the driver number was incorrect.\n"
   ],
   "metadata": {
    "collapsed": false
   }
  },
  {
   "cell_type": "code",
   "execution_count": 63,
   "outputs": [],
   "source": [
    "from sqlalchemy.engine import URL\n",
    "\n",
    "connection_string = f'''\n",
    "Driver={driver};\n",
    "Server=tcp:{server},1433;\n",
    "Database={database};\n",
    "Uid={username};\n",
    "Pwd={password};\n",
    "Encrypt=yes;\n",
    "TrustServerCertificate=no;\n",
    "Connection Timeout=30;\n",
    "'''\n",
    "connection_url = URL.create(\"mssql+pyodbc\", \\\n",
    "                            query={\"odbc_connect\": connection_string})\n",
    "\n",
    "from sqlalchemy import create_engine\n",
    "engine = create_engine(connection_url)"
   ],
   "metadata": {
    "collapsed": false
   }
  },
  {
   "cell_type": "code",
   "execution_count": 64,
   "outputs": [],
   "source": [
    "sql = '''\n",
    "SELECT TOP 100 *\n",
    "FROM WristMotion\n",
    "WHERE capture_sequence = (SELECT MIN(DISTINCT(capture_sequence)) FROM Microphone)\n",
    "ORDER BY seconds_elapsed'''\n",
    "\n",
    "df = pd.read_sql(sql, engine)"
   ],
   "metadata": {
    "collapsed": false
   }
  },
  {
   "cell_type": "code",
   "execution_count": 65,
   "outputs": [
    {
     "data": {
      "text/plain": "                   time  seconds_elapsed  rotationRateX  rotationRateY  \\\n0   1666950651452580600         1.531581      -0.028649      -0.028887   \n1   1666950651462553900         1.541554       0.004334      -0.018860   \n2   1666950651472526800         1.551527       0.042355      -0.026153   \n3   1666950651482499800         1.561500       0.041126      -0.039087   \n4   1666950651492471800         1.571472       0.020924      -0.025142   \n..                  ...              ...            ...            ...   \n95  1666950652399994400         2.478994      -0.036416      -0.031295   \n96  1666950652409966300         2.488966      -0.002551      -0.013635   \n97  1666950652419939300         2.498939       0.013605      -0.011246   \n98  1666950652429912300         2.508912       0.017040      -0.016889   \n99  1666950652439885300         2.518885       0.008070      -0.029382   \n\n    rotationRateZ  gravityX  gravityY  gravityZ  accelerationX  accelerationY  \\\n0        0.027291  0.168710 -0.305658 -0.937075       0.032676       0.051004   \n1        0.029478  0.168966 -0.305185 -0.937183       0.027583       0.055307   \n2        0.035739  0.169213 -0.305506 -0.937034       0.023841       0.046427   \n3        0.026955  0.169424 -0.306567 -0.936649       0.018137       0.029590   \n4        0.032885  0.169808 -0.307804 -0.936174       0.010444       0.007099   \n..            ...       ...       ...       ...            ...            ...   \n95       0.005112  0.149921 -0.292966 -0.944296      -0.001804      -0.007266   \n96      -0.000927  0.149692 -0.292295 -0.944540      -0.001026      -0.004275   \n97      -0.003043  0.149497 -0.291870 -0.944702       0.000161      -0.000046   \n98       0.003719  0.149322 -0.291740 -0.944770       0.000336       0.002662   \n99       0.010233  0.149139 -0.291950 -0.944734       0.003510       0.002125   \n\n    accelerationZ  quaternionW  quaternionX  quaternionY  quaternionZ  \\\n0        0.027255     0.984143     0.155291     0.085714     0.000000   \n1        0.014820     0.984171     0.155041     0.085852     0.000064   \n2       -0.000374     0.984133     0.155202     0.085996     0.000160   \n3       -0.013119     0.984035     0.155749     0.086126     0.000251   \n4       -0.030028     0.983914     0.156389     0.086344     0.000329   \n..            ...          ...          ...          ...          ...   \n95       0.021673     0.985975     0.148635     0.075892    -0.000892   \n96       0.029455     0.986037     0.148286     0.075772    -0.000891   \n97       0.030838     0.986078     0.148067     0.075665    -0.000927   \n98       0.023918     0.986096     0.148000     0.075570    -0.000957   \n99       0.008226     0.986086     0.148107     0.075480    -0.000943   \n\n   capture_date capture_sequence  \n0    2022-10-28                3  \n1    2022-10-28                3  \n2    2022-10-28                3  \n3    2022-10-28                3  \n4    2022-10-28                3  \n..          ...              ...  \n95   2022-10-28                3  \n96   2022-10-28                3  \n97   2022-10-28                3  \n98   2022-10-28                3  \n99   2022-10-28                3  \n\n[100 rows x 17 columns]",
      "text/html": "<div>\n<style scoped>\n    .dataframe tbody tr th:only-of-type {\n        vertical-align: middle;\n    }\n\n    .dataframe tbody tr th {\n        vertical-align: top;\n    }\n\n    .dataframe thead th {\n        text-align: right;\n    }\n</style>\n<table border=\"1\" class=\"dataframe\">\n  <thead>\n    <tr style=\"text-align: right;\">\n      <th></th>\n      <th>time</th>\n      <th>seconds_elapsed</th>\n      <th>rotationRateX</th>\n      <th>rotationRateY</th>\n      <th>rotationRateZ</th>\n      <th>gravityX</th>\n      <th>gravityY</th>\n      <th>gravityZ</th>\n      <th>accelerationX</th>\n      <th>accelerationY</th>\n      <th>accelerationZ</th>\n      <th>quaternionW</th>\n      <th>quaternionX</th>\n      <th>quaternionY</th>\n      <th>quaternionZ</th>\n      <th>capture_date</th>\n      <th>capture_sequence</th>\n    </tr>\n  </thead>\n  <tbody>\n    <tr>\n      <th>0</th>\n      <td>1666950651452580600</td>\n      <td>1.531581</td>\n      <td>-0.028649</td>\n      <td>-0.028887</td>\n      <td>0.027291</td>\n      <td>0.168710</td>\n      <td>-0.305658</td>\n      <td>-0.937075</td>\n      <td>0.032676</td>\n      <td>0.051004</td>\n      <td>0.027255</td>\n      <td>0.984143</td>\n      <td>0.155291</td>\n      <td>0.085714</td>\n      <td>0.000000</td>\n      <td>2022-10-28</td>\n      <td>3</td>\n    </tr>\n    <tr>\n      <th>1</th>\n      <td>1666950651462553900</td>\n      <td>1.541554</td>\n      <td>0.004334</td>\n      <td>-0.018860</td>\n      <td>0.029478</td>\n      <td>0.168966</td>\n      <td>-0.305185</td>\n      <td>-0.937183</td>\n      <td>0.027583</td>\n      <td>0.055307</td>\n      <td>0.014820</td>\n      <td>0.984171</td>\n      <td>0.155041</td>\n      <td>0.085852</td>\n      <td>0.000064</td>\n      <td>2022-10-28</td>\n      <td>3</td>\n    </tr>\n    <tr>\n      <th>2</th>\n      <td>1666950651472526800</td>\n      <td>1.551527</td>\n      <td>0.042355</td>\n      <td>-0.026153</td>\n      <td>0.035739</td>\n      <td>0.169213</td>\n      <td>-0.305506</td>\n      <td>-0.937034</td>\n      <td>0.023841</td>\n      <td>0.046427</td>\n      <td>-0.000374</td>\n      <td>0.984133</td>\n      <td>0.155202</td>\n      <td>0.085996</td>\n      <td>0.000160</td>\n      <td>2022-10-28</td>\n      <td>3</td>\n    </tr>\n    <tr>\n      <th>3</th>\n      <td>1666950651482499800</td>\n      <td>1.561500</td>\n      <td>0.041126</td>\n      <td>-0.039087</td>\n      <td>0.026955</td>\n      <td>0.169424</td>\n      <td>-0.306567</td>\n      <td>-0.936649</td>\n      <td>0.018137</td>\n      <td>0.029590</td>\n      <td>-0.013119</td>\n      <td>0.984035</td>\n      <td>0.155749</td>\n      <td>0.086126</td>\n      <td>0.000251</td>\n      <td>2022-10-28</td>\n      <td>3</td>\n    </tr>\n    <tr>\n      <th>4</th>\n      <td>1666950651492471800</td>\n      <td>1.571472</td>\n      <td>0.020924</td>\n      <td>-0.025142</td>\n      <td>0.032885</td>\n      <td>0.169808</td>\n      <td>-0.307804</td>\n      <td>-0.936174</td>\n      <td>0.010444</td>\n      <td>0.007099</td>\n      <td>-0.030028</td>\n      <td>0.983914</td>\n      <td>0.156389</td>\n      <td>0.086344</td>\n      <td>0.000329</td>\n      <td>2022-10-28</td>\n      <td>3</td>\n    </tr>\n    <tr>\n      <th>...</th>\n      <td>...</td>\n      <td>...</td>\n      <td>...</td>\n      <td>...</td>\n      <td>...</td>\n      <td>...</td>\n      <td>...</td>\n      <td>...</td>\n      <td>...</td>\n      <td>...</td>\n      <td>...</td>\n      <td>...</td>\n      <td>...</td>\n      <td>...</td>\n      <td>...</td>\n      <td>...</td>\n      <td>...</td>\n    </tr>\n    <tr>\n      <th>95</th>\n      <td>1666950652399994400</td>\n      <td>2.478994</td>\n      <td>-0.036416</td>\n      <td>-0.031295</td>\n      <td>0.005112</td>\n      <td>0.149921</td>\n      <td>-0.292966</td>\n      <td>-0.944296</td>\n      <td>-0.001804</td>\n      <td>-0.007266</td>\n      <td>0.021673</td>\n      <td>0.985975</td>\n      <td>0.148635</td>\n      <td>0.075892</td>\n      <td>-0.000892</td>\n      <td>2022-10-28</td>\n      <td>3</td>\n    </tr>\n    <tr>\n      <th>96</th>\n      <td>1666950652409966300</td>\n      <td>2.488966</td>\n      <td>-0.002551</td>\n      <td>-0.013635</td>\n      <td>-0.000927</td>\n      <td>0.149692</td>\n      <td>-0.292295</td>\n      <td>-0.944540</td>\n      <td>-0.001026</td>\n      <td>-0.004275</td>\n      <td>0.029455</td>\n      <td>0.986037</td>\n      <td>0.148286</td>\n      <td>0.075772</td>\n      <td>-0.000891</td>\n      <td>2022-10-28</td>\n      <td>3</td>\n    </tr>\n    <tr>\n      <th>97</th>\n      <td>1666950652419939300</td>\n      <td>2.498939</td>\n      <td>0.013605</td>\n      <td>-0.011246</td>\n      <td>-0.003043</td>\n      <td>0.149497</td>\n      <td>-0.291870</td>\n      <td>-0.944702</td>\n      <td>0.000161</td>\n      <td>-0.000046</td>\n      <td>0.030838</td>\n      <td>0.986078</td>\n      <td>0.148067</td>\n      <td>0.075665</td>\n      <td>-0.000927</td>\n      <td>2022-10-28</td>\n      <td>3</td>\n    </tr>\n    <tr>\n      <th>98</th>\n      <td>1666950652429912300</td>\n      <td>2.508912</td>\n      <td>0.017040</td>\n      <td>-0.016889</td>\n      <td>0.003719</td>\n      <td>0.149322</td>\n      <td>-0.291740</td>\n      <td>-0.944770</td>\n      <td>0.000336</td>\n      <td>0.002662</td>\n      <td>0.023918</td>\n      <td>0.986096</td>\n      <td>0.148000</td>\n      <td>0.075570</td>\n      <td>-0.000957</td>\n      <td>2022-10-28</td>\n      <td>3</td>\n    </tr>\n    <tr>\n      <th>99</th>\n      <td>1666950652439885300</td>\n      <td>2.518885</td>\n      <td>0.008070</td>\n      <td>-0.029382</td>\n      <td>0.010233</td>\n      <td>0.149139</td>\n      <td>-0.291950</td>\n      <td>-0.944734</td>\n      <td>0.003510</td>\n      <td>0.002125</td>\n      <td>0.008226</td>\n      <td>0.986086</td>\n      <td>0.148107</td>\n      <td>0.075480</td>\n      <td>-0.000943</td>\n      <td>2022-10-28</td>\n      <td>3</td>\n    </tr>\n  </tbody>\n</table>\n<p>100 rows × 17 columns</p>\n</div>"
     },
     "execution_count": 65,
     "metadata": {},
     "output_type": "execute_result"
    }
   ],
   "source": [
    "df"
   ],
   "metadata": {
    "collapsed": false
   }
  },
  {
   "cell_type": "code",
   "execution_count": 68,
   "outputs": [],
   "source": [
    "def db(statement):\n",
    "    return pd.read_sql(statement, engine)"
   ],
   "metadata": {
    "collapsed": false
   }
  },
  {
   "cell_type": "code",
   "execution_count": 72,
   "outputs": [
    {
     "data": {
      "text/plain": "                  time  seconds_elapsed         z         y         x  \\\n0  1667050922889186300     13882.919186  0.295586 -0.163258 -0.085849   \n1  1667050922879113500     13882.909114  0.258264  0.002989 -0.058666   \n2  1667050922869040400     13882.899040  0.279514  0.130501  0.113345   \n3  1667050922858967600     13882.888968  0.067750 -0.177643  0.105313   \n4  1667050922848894500     13882.878895 -0.194960 -0.526001 -0.022519   \n5  1667050922838821400     13882.868821 -0.684914 -0.262150 -0.160601   \n6  1667050922828748500     13882.858749 -1.454575  0.399044 -0.099595   \n7  1667050922818674700     13882.848675 -1.463843  0.058211 -0.219399   \n8  1667050922808601300     13882.838601 -0.060962 -0.735100 -1.221866   \n9  1667050922798528500     13882.828529  1.828231 -0.551260 -0.964108   \n\n  capture_date capture_sequence  \n0   2022-10-29                5  \n1   2022-10-29                5  \n2   2022-10-29                5  \n3   2022-10-29                5  \n4   2022-10-29                5  \n5   2022-10-29                5  \n6   2022-10-29                5  \n7   2022-10-29                5  \n8   2022-10-29                5  \n9   2022-10-29                5  ",
      "text/html": "<div>\n<style scoped>\n    .dataframe tbody tr th:only-of-type {\n        vertical-align: middle;\n    }\n\n    .dataframe tbody tr th {\n        vertical-align: top;\n    }\n\n    .dataframe thead th {\n        text-align: right;\n    }\n</style>\n<table border=\"1\" class=\"dataframe\">\n  <thead>\n    <tr style=\"text-align: right;\">\n      <th></th>\n      <th>time</th>\n      <th>seconds_elapsed</th>\n      <th>z</th>\n      <th>y</th>\n      <th>x</th>\n      <th>capture_date</th>\n      <th>capture_sequence</th>\n    </tr>\n  </thead>\n  <tbody>\n    <tr>\n      <th>0</th>\n      <td>1667050922889186300</td>\n      <td>13882.919186</td>\n      <td>0.295586</td>\n      <td>-0.163258</td>\n      <td>-0.085849</td>\n      <td>2022-10-29</td>\n      <td>5</td>\n    </tr>\n    <tr>\n      <th>1</th>\n      <td>1667050922879113500</td>\n      <td>13882.909114</td>\n      <td>0.258264</td>\n      <td>0.002989</td>\n      <td>-0.058666</td>\n      <td>2022-10-29</td>\n      <td>5</td>\n    </tr>\n    <tr>\n      <th>2</th>\n      <td>1667050922869040400</td>\n      <td>13882.899040</td>\n      <td>0.279514</td>\n      <td>0.130501</td>\n      <td>0.113345</td>\n      <td>2022-10-29</td>\n      <td>5</td>\n    </tr>\n    <tr>\n      <th>3</th>\n      <td>1667050922858967600</td>\n      <td>13882.888968</td>\n      <td>0.067750</td>\n      <td>-0.177643</td>\n      <td>0.105313</td>\n      <td>2022-10-29</td>\n      <td>5</td>\n    </tr>\n    <tr>\n      <th>4</th>\n      <td>1667050922848894500</td>\n      <td>13882.878895</td>\n      <td>-0.194960</td>\n      <td>-0.526001</td>\n      <td>-0.022519</td>\n      <td>2022-10-29</td>\n      <td>5</td>\n    </tr>\n    <tr>\n      <th>5</th>\n      <td>1667050922838821400</td>\n      <td>13882.868821</td>\n      <td>-0.684914</td>\n      <td>-0.262150</td>\n      <td>-0.160601</td>\n      <td>2022-10-29</td>\n      <td>5</td>\n    </tr>\n    <tr>\n      <th>6</th>\n      <td>1667050922828748500</td>\n      <td>13882.858749</td>\n      <td>-1.454575</td>\n      <td>0.399044</td>\n      <td>-0.099595</td>\n      <td>2022-10-29</td>\n      <td>5</td>\n    </tr>\n    <tr>\n      <th>7</th>\n      <td>1667050922818674700</td>\n      <td>13882.848675</td>\n      <td>-1.463843</td>\n      <td>0.058211</td>\n      <td>-0.219399</td>\n      <td>2022-10-29</td>\n      <td>5</td>\n    </tr>\n    <tr>\n      <th>8</th>\n      <td>1667050922808601300</td>\n      <td>13882.838601</td>\n      <td>-0.060962</td>\n      <td>-0.735100</td>\n      <td>-1.221866</td>\n      <td>2022-10-29</td>\n      <td>5</td>\n    </tr>\n    <tr>\n      <th>9</th>\n      <td>1667050922798528500</td>\n      <td>13882.828529</td>\n      <td>1.828231</td>\n      <td>-0.551260</td>\n      <td>-0.964108</td>\n      <td>2022-10-29</td>\n      <td>5</td>\n    </tr>\n  </tbody>\n</table>\n</div>"
     },
     "execution_count": 72,
     "metadata": {},
     "output_type": "execute_result"
    }
   ],
   "source": [
    "accel_top = '''\n",
    "SELECT TOP 10 *\n",
    "FROM Accelerometer\n",
    "ORDER BY seconds_elapsed DESC\n",
    "'''\n",
    "\n",
    "df_accel_top = db(accel_top)\n",
    "df_accel_top"
   ],
   "metadata": {
    "collapsed": false
   }
  },
  {
   "cell_type": "code",
   "execution_count": null,
   "outputs": [],
   "source": [
    "\n"
   ],
   "metadata": {
    "collapsed": false
   }
  }
 ],
 "metadata": {
  "kernelspec": {
   "display_name": "Python 3",
   "language": "python",
   "name": "python3"
  },
  "language_info": {
   "codemirror_mode": {
    "name": "ipython",
    "version": 2
   },
   "file_extension": ".py",
   "mimetype": "text/x-python",
   "name": "python",
   "nbconvert_exporter": "python",
   "pygments_lexer": "ipython2",
   "version": "2.7.6"
  }
 },
 "nbformat": 4,
 "nbformat_minor": 0
}
