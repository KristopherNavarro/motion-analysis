{
 "cells": [
  {
   "cell_type": "markdown",
   "source": [
    "# Exploratory Analysis of Raw Sensor Data\n",
    "In this notebook, I'll be performing some initial exploratory analysis of the raw sensor data collected from my Apple Watch Series 5 during unload of a retail shipment trailer.\n",
    "\n",
    "To begin, I'll import the basic packages I'll need to begin: Pandas, Matplotlib, Seaborn, NumPy, and OS. I will also create a tuple with the names of the varios CSV files that will be used in this analysis."
   ],
   "metadata": {
    "collapsed": false
   }
  },
  {
   "cell_type": "code",
   "execution_count": null,
   "outputs": [],
   "source": [
    "import pandas as pd\n",
    "import numpy as np\n",
    "import matplotlib.pyplot as plt\n",
    "import seaborn as sns\n",
    "import os\n",
    "from pprint import pprint\n",
    "\n",
    "cwd = os.getcwd()\n",
    "\n",
    "parent_data_folder = 'C:/Users/Kristopher/OneDrive/Projects/motion-analysis/sensor-data/'\n",
    "\n",
    "feeder_folder = parent_data_folder + 'feeder_2022_11_08/'\n",
    "trailer_folder = parent_data_folder + 'trailer_2022_12_18/'\n",
    "\n",
    "file_names = ('Accelerometer', 'Barometer', 'Gravity', 'Gyroscope', 'Magnetometer', 'Metadata', 'Orientation', 'Wristmotion')\n",
    "\n",
    "trailer_file_paths = []\n",
    "feeder_file_paths = []\n",
    "for file in file_names:\n",
    "    trailer_file_paths.append(trailer_folder + file + '.csv')\n",
    "    feeder_file_paths.append(feeder_folder + file + '.csv')"
   ],
   "metadata": {
    "collapsed": false,
    "pycharm": {
     "is_executing": true
    }
   }
  },
  {
   "cell_type": "code",
   "execution_count": 35,
   "outputs": [
    {
     "name": "stdout",
     "output_type": "stream",
     "text": [
      "('Accelerometer',\n",
      " 'Barometer',\n",
      " 'Gravity',\n",
      " 'Gyroscope',\n",
      " 'Magnetometer',\n",
      " 'Metadata',\n",
      " 'Orientation',\n",
      " 'Wristmotion')\n"
     ]
    }
   ],
   "source": [
    "pprint(file_names)"
   ],
   "metadata": {
    "collapsed": false
   }
  },
  {
   "cell_type": "code",
   "execution_count": 36,
   "outputs": [],
   "source": [
    "taccel = pd.read_csv(trailer_file_paths[0])\n",
    "tbar = pd.read_csv(trailer_file_paths[1])\n",
    "tgrav = pd.read_csv(trailer_file_paths[2])\n",
    "tgyro = pd.read_csv(trailer_file_paths[3])\n",
    "tmagneto = pd.read_csv(trailer_file_paths[4])\n",
    "tmeta = pd.read_csv(trailer_file_paths[5])\n",
    "torient = pd.read_csv(trailer_file_paths[6])\n",
    "twrist = pd.read_csv(trailer_file_paths[7])"
   ],
   "metadata": {
    "collapsed": false
   }
  },
  {
   "cell_type": "code",
   "execution_count": 54,
   "outputs": [],
   "source": [
    "faccel = pd.read_csv(feeder_file_paths[0])\n",
    "fbar = pd.read_csv(feeder_file_paths[1])\n",
    "fgrav = pd.read_csv(feeder_file_paths[2])\n",
    "fgyro = pd.read_csv(feeder_file_paths[3])\n",
    "fmagneto = pd.read_csv(feeder_file_paths[4])\n",
    "fmeta = pd.read_csv(feeder_file_paths[5])\n",
    "forient = pd.read_csv(feeder_file_paths[6])\n",
    "fwrist = pd.read_csv(feeder_file_paths[7])"
   ],
   "metadata": {
    "collapsed": false
   }
  },
  {
   "cell_type": "code",
   "execution_count": 43,
   "outputs": [],
   "source": [
    "tbar = tbar.sort_values('time')"
   ],
   "metadata": {
    "collapsed": false
   }
  },
  {
   "cell_type": "code",
   "execution_count": null,
   "outputs": [],
   "source": [],
   "metadata": {
    "collapsed": false
   }
  }
 ],
 "metadata": {
  "kernelspec": {
   "display_name": "Python 3",
   "language": "python",
   "name": "python3"
  },
  "language_info": {
   "codemirror_mode": {
    "name": "ipython",
    "version": 2
   },
   "file_extension": ".py",
   "mimetype": "text/x-python",
   "name": "python",
   "nbconvert_exporter": "python",
   "pygments_lexer": "ipython2",
   "version": "2.7.6"
  }
 },
 "nbformat": 4,
 "nbformat_minor": 0
}
