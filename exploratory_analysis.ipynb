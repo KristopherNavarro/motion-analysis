{
 "cells": [
  {
   "cell_type": "markdown",
   "source": [
    "# Exploratory Analysis of Raw Sensor Data\n",
    "In this notebook, I'll be performing some initial exploratory analysis of the raw sensor data collected from my Apple Watch Series 5 during unload of a retail shipment trailer.\n",
    "\n",
    "To begin, I'll import the basic packages I'll need to begin: Pandas, Matplotlib, Seaborn, NumPy, and OS. I will also create a tuple with the names of the varios CSV files that will be used in this analysis."
   ],
   "metadata": {
    "collapsed": false
   }
  },
  {
   "cell_type": "code",
   "execution_count": 1,
   "outputs": [],
   "source": [
    "import pandas as pd\n",
    "import numpy as np\n",
    "import matplotlib.pyplot as plt\n",
    "import seaborn as sns\n",
    "import os\n",
    "from pprint import pprint\n",
    "\n",
    "cwd = os.getcwd()\n",
    "\n",
    "parent_data_folder = 'C:/Users/Kristopher/OneDrive/Projects/motion-analysis/sensor-data/'\n",
    "\n",
    "feeder_folder = parent_data_folder + 'feeder_2022_11_08/'\n",
    "trailer_folder = parent_data_folder + 'trailer_2022_12_18/'\n",
    "\n",
    "file_names = ('Accelerometer', 'Barometer', 'Gravity', 'Gyroscope', 'Magnetometer', 'Metadata', 'Orientation', 'Wristmotion')\n",
    "\n",
    "trailer_file_paths = []\n",
    "feeder_file_paths = []\n",
    "for file in file_names:\n",
    "    trailer_file_paths.append(trailer_folder + file + '.csv')\n",
    "    feeder_file_paths.append(feeder_folder + file + '.csv')"
   ],
   "metadata": {
    "collapsed": false
   }
  },
  {
   "cell_type": "code",
   "execution_count": 3,
   "outputs": [
    {
     "name": "stdout",
     "output_type": "stream",
     "text": [
      "('Accelerometer',\n",
      " 'Barometer',\n",
      " 'Gravity',\n",
      " 'Gyroscope',\n",
      " 'Magnetometer',\n",
      " 'Metadata',\n",
      " 'Orientation',\n",
      " 'Wristmotion')\n"
     ]
    }
   ],
   "source": [
    "pprint(file_names)"
   ],
   "metadata": {
    "collapsed": false
   }
  },
  {
   "cell_type": "code",
   "execution_count": 4,
   "outputs": [],
   "source": [
    "taccel = pd.read_csv(trailer_file_paths[0])\n",
    "tbar = pd.read_csv(trailer_file_paths[1])\n",
    "tgrav = pd.read_csv(trailer_file_paths[2])\n",
    "tgyro = pd.read_csv(trailer_file_paths[3])\n",
    "tmagneto = pd.read_csv(trailer_file_paths[4])\n",
    "tmeta = pd.read_csv(trailer_file_paths[5])\n",
    "torient = pd.read_csv(trailer_file_paths[6])\n",
    "twrist = pd.read_csv(trailer_file_paths[7])"
   ],
   "metadata": {
    "collapsed": false
   }
  },
  {
   "cell_type": "code",
   "execution_count": 5,
   "outputs": [],
   "source": [
    "faccel = pd.read_csv(feeder_file_paths[0])\n",
    "fbar = pd.read_csv(feeder_file_paths[1])\n",
    "fgrav = pd.read_csv(feeder_file_paths[2])\n",
    "fgyro = pd.read_csv(feeder_file_paths[3])\n",
    "fmagneto = pd.read_csv(feeder_file_paths[4])\n",
    "fmeta = pd.read_csv(feeder_file_paths[5])\n",
    "forient = pd.read_csv(feeder_file_paths[6])\n",
    "fwrist = pd.read_csv(feeder_file_paths[7])"
   ],
   "metadata": {
    "collapsed": false
   }
  },
  {
   "cell_type": "code",
   "execution_count": 6,
   "outputs": [],
   "source": [
    "tbar = tbar.sort_values('time')"
   ],
   "metadata": {
    "collapsed": false
   }
  },
  {
   "cell_type": "code",
   "execution_count": 7,
   "outputs": [
    {
     "data": {
      "text/plain": "                  time  seconds_elapsed         z         y         x\n0  1667915995792200700         0.039201 -0.116841  0.594630  0.211384\n1  1667915995802275600         0.049276 -0.062329  0.514497  0.219859\n2  1667915995812350700         0.059351 -0.105416  0.562545  0.230153\n3  1667915995822425600         0.069426 -0.116613  0.529613  0.246404\n4  1667915995832500700         0.079501 -0.126575  0.314114  0.213015",
      "text/html": "<div>\n<style scoped>\n    .dataframe tbody tr th:only-of-type {\n        vertical-align: middle;\n    }\n\n    .dataframe tbody tr th {\n        vertical-align: top;\n    }\n\n    .dataframe thead th {\n        text-align: right;\n    }\n</style>\n<table border=\"1\" class=\"dataframe\">\n  <thead>\n    <tr style=\"text-align: right;\">\n      <th></th>\n      <th>time</th>\n      <th>seconds_elapsed</th>\n      <th>z</th>\n      <th>y</th>\n      <th>x</th>\n    </tr>\n  </thead>\n  <tbody>\n    <tr>\n      <th>0</th>\n      <td>1667915995792200700</td>\n      <td>0.039201</td>\n      <td>-0.116841</td>\n      <td>0.594630</td>\n      <td>0.211384</td>\n    </tr>\n    <tr>\n      <th>1</th>\n      <td>1667915995802275600</td>\n      <td>0.049276</td>\n      <td>-0.062329</td>\n      <td>0.514497</td>\n      <td>0.219859</td>\n    </tr>\n    <tr>\n      <th>2</th>\n      <td>1667915995812350700</td>\n      <td>0.059351</td>\n      <td>-0.105416</td>\n      <td>0.562545</td>\n      <td>0.230153</td>\n    </tr>\n    <tr>\n      <th>3</th>\n      <td>1667915995822425600</td>\n      <td>0.069426</td>\n      <td>-0.116613</td>\n      <td>0.529613</td>\n      <td>0.246404</td>\n    </tr>\n    <tr>\n      <th>4</th>\n      <td>1667915995832500700</td>\n      <td>0.079501</td>\n      <td>-0.126575</td>\n      <td>0.314114</td>\n      <td>0.213015</td>\n    </tr>\n  </tbody>\n</table>\n</div>"
     },
     "execution_count": 7,
     "metadata": {},
     "output_type": "execute_result"
    }
   ],
   "source": [
    "faccel.head()"
   ],
   "metadata": {
    "collapsed": false
   }
  },
  {
   "cell_type": "code",
   "execution_count": 8,
   "outputs": [
    {
     "data": {
      "text/plain": "pandas.core.frame.DataFrame"
     },
     "execution_count": 8,
     "metadata": {},
     "output_type": "execute_result"
    }
   ],
   "source": [
    "type(faccel)"
   ],
   "metadata": {
    "collapsed": false
   }
  },
  {
   "cell_type": "code",
   "execution_count": 12,
   "outputs": [
    {
     "data": {
      "text/plain": "numpy.float64"
     },
     "execution_count": 12,
     "metadata": {},
     "output_type": "execute_result"
    }
   ],
   "source": [
    "type(faccel['z'][0])"
   ],
   "metadata": {
    "collapsed": false
   }
  },
  {
   "cell_type": "code",
   "execution_count": 2,
   "outputs": [],
   "source": [
    "magnetometer = pd.read_csv(\"C:/Users/Kristopher/OneDrive/Data/Motion Tracking/Trailer/2022_10_27/A1/Magnetometer.csv\")"
   ],
   "metadata": {
    "collapsed": false
   }
  },
  {
   "cell_type": "code",
   "execution_count": 3,
   "outputs": [
    {
     "name": "stdout",
     "output_type": "stream",
     "text": [
      "<class 'pandas.core.frame.DataFrame'>\n",
      "RangeIndex: 170257 entries, 0 to 170256\n",
      "Data columns (total 5 columns):\n",
      " #   Column           Non-Null Count   Dtype  \n",
      "---  ------           --------------   -----  \n",
      " 0   time             170257 non-null  int64  \n",
      " 1   seconds_elapsed  170257 non-null  float64\n",
      " 2   z                170257 non-null  float64\n",
      " 3   y                170257 non-null  float64\n",
      " 4   x                170257 non-null  float64\n",
      "dtypes: float64(4), int64(1)\n",
      "memory usage: 6.5 MB\n"
     ]
    }
   ],
   "source": [
    "magnetometer.info()"
   ],
   "metadata": {
    "collapsed": false
   }
  },
  {
   "cell_type": "code",
   "execution_count": null,
   "outputs": [],
   "source": [],
   "metadata": {
    "collapsed": false
   }
  },
  {
   "cell_type": "code",
   "execution_count": 2,
   "outputs": [],
   "source": [
    "metadata = pd.read_csv('C:/Users/Kristopher/OneDrive/Data/Motion Tracking/Trailer/2022_10_27/A2/Metadata.csv')"
   ],
   "metadata": {
    "collapsed": false
   }
  },
  {
   "cell_type": "code",
   "execution_count": 4,
   "outputs": [],
   "source": [
    "c_names = list(metadata.columns)"
   ],
   "metadata": {
    "collapsed": false
   }
  },
  {
   "cell_type": "code",
   "execution_count": 5,
   "outputs": [
    {
     "name": "stdout",
     "output_type": "stream",
     "text": [
      "['version',\n",
      " 'device name',\n",
      " 'recording time',\n",
      " 'platform',\n",
      " 'appVersion',\n",
      " 'device id',\n",
      " 'sensors',\n",
      " 'sampleRateMs']\n"
     ]
    }
   ],
   "source": [
    "pprint(c_names)"
   ],
   "metadata": {
    "collapsed": false
   }
  },
  {
   "cell_type": "code",
   "execution_count": 7,
   "outputs": [
    {
     "name": "stdout",
     "output_type": "stream",
     "text": [
      "<class 'pandas.core.frame.DataFrame'>\n",
      "RangeIndex: 1 entries, 0 to 0\n",
      "Data columns (total 8 columns):\n",
      " #   Column          Non-Null Count  Dtype  \n",
      "---  ------          --------------  -----  \n",
      " 0   version         1 non-null      int64  \n",
      " 1   device name     1 non-null      object \n",
      " 2   recording time  1 non-null      object \n",
      " 3   platform        1 non-null      object \n",
      " 4   appVersion      1 non-null      float64\n",
      " 5   device id       1 non-null      object \n",
      " 6   sensors         1 non-null      object \n",
      " 7   sampleRateMs    1 non-null      object \n",
      "dtypes: float64(1), int64(1), object(6)\n",
      "memory usage: 192.0+ bytes\n"
     ]
    }
   ],
   "source": [
    "metadata.info()"
   ],
   "metadata": {
    "collapsed": false
   }
  },
  {
   "cell_type": "code",
   "execution_count": 8,
   "outputs": [
    {
     "data": {
      "text/plain": "   version device name       recording time platform  appVersion  \\\n0        3   iPhone 11  2022-10-27_11-07-26      ios        1.11   \n\n                              device id  \\\n0  99919401-5e10-4d0d-b2b0-ea1082c10b5c   \n\n                                             sensors           sampleRateMs  \n0  Accelerometer|Gravity|Gyroscope|Orientation|Ma...  0|0|0|0|0|0|10||0|0|0  ",
      "text/html": "<div>\n<style scoped>\n    .dataframe tbody tr th:only-of-type {\n        vertical-align: middle;\n    }\n\n    .dataframe tbody tr th {\n        vertical-align: top;\n    }\n\n    .dataframe thead th {\n        text-align: right;\n    }\n</style>\n<table border=\"1\" class=\"dataframe\">\n  <thead>\n    <tr style=\"text-align: right;\">\n      <th></th>\n      <th>version</th>\n      <th>device name</th>\n      <th>recording time</th>\n      <th>platform</th>\n      <th>appVersion</th>\n      <th>device id</th>\n      <th>sensors</th>\n      <th>sampleRateMs</th>\n    </tr>\n  </thead>\n  <tbody>\n    <tr>\n      <th>0</th>\n      <td>3</td>\n      <td>iPhone 11</td>\n      <td>2022-10-27_11-07-26</td>\n      <td>ios</td>\n      <td>1.11</td>\n      <td>99919401-5e10-4d0d-b2b0-ea1082c10b5c</td>\n      <td>Accelerometer|Gravity|Gyroscope|Orientation|Ma...</td>\n      <td>0|0|0|0|0|0|10||0|0|0</td>\n    </tr>\n  </tbody>\n</table>\n</div>"
     },
     "execution_count": 8,
     "metadata": {},
     "output_type": "execute_result"
    }
   ],
   "source": [
    "metadata.head()"
   ],
   "metadata": {
    "collapsed": false
   }
  },
  {
   "cell_type": "code",
   "execution_count": null,
   "outputs": [],
   "source": [],
   "metadata": {
    "collapsed": false
   }
  }
 ],
 "metadata": {
  "kernelspec": {
   "display_name": "Python 3",
   "language": "python",
   "name": "python3"
  },
  "language_info": {
   "codemirror_mode": {
    "name": "ipython",
    "version": 2
   },
   "file_extension": ".py",
   "mimetype": "text/x-python",
   "name": "python",
   "nbconvert_exporter": "python",
   "pygments_lexer": "ipython2",
   "version": "2.7.6"
  }
 },
 "nbformat": 4,
 "nbformat_minor": 0
}
