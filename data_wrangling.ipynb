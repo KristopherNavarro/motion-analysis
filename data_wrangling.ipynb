{
 "cells": [
  {
   "cell_type": "markdown",
   "source": [
    "## Database Creation\n",
    "In order to start this project out on a scalable platform, I've opted to create a cloud database for the sensor data. I've selected Oracle Cloud as my database service.\n",
    "\n",
    "Virtual Cloud Netowrk (VCN): <b>vcn-20221225-2055</b>\n",
    "\n",
    "Subnet: <b>subnet-20221225-2055(regional)</b>\n",
    "\n",
    "Hostname prefix: <b>wasensordb</b>\n",
    "\n",
    "Host domain name: <b>subnet12252101.vcn12252101.oraclevcn.com</b>\n",
    "\n",
    "Host and domain URL: <b>wasensordb.subnet12252101.vcn12252101.oraclevcn.com</b>\n",
    "\n",
    "DB system name: <b>motion-sensorVMDB</b>\n",
    "\n",
    "The database name is : <b>WAMSDB01</b>\n",
    "\n",
    "Admin Credentials: <b>sys : puxt1n-woFcyw-teqWo8</b>\n",
    "\n",
    "The systems database is currently provisioning, unknown time to completion.\n",
    "\n",
    "\n"
   ],
   "metadata": {
    "collapsed": false
   }
  },
  {
   "cell_type": "markdown",
   "source": [
    "## DB ready to go\n",
    "The database is all set and ready to go. I had some trouble connecting via SSH using PuTTY <br /> because the private key was being rejected. This was fixed by converting the Oracle generated <br /> Private Key to a `.ppk` using PuTTYgen. Once connected I followed steps from a YouTube video to do some quick checks on the database. Here is the output from the SSH connection:\n",
    "```\n",
    "login as: opc\n",
    "Authenticating with public key \"imported-openssh-key\"\n",
    "Last failed login: Mon Dec 26 05:16:43 UTC 2022 from 172.58.180.37 on ssh:notty\n",
    "There were 3 failed login attempts since the last successful login.\n",
    "[opc@wasensordb ~]$ ps -ef | grep smon\n",
    "root     33966     1  0 04:14 ?        00:00:42 /u01/app/19.0.0.0/grid/bin/osysmond.bin\n",
    "grid     45772     1  0 04:18 ?        00:00:00 asm_smon_+ASM1\n",
    "opc      60118 59462  0 05:38 pts/0    00:00:00 grep --color=auto smon\n",
    "oracle   83463     1  0 04:36 ?        00:00:00 ora_smon_WAMSDB01\n",
    "[opc@wasensordb ~]$ sudo su - oracle\n",
    "Last login: Mon Dec 26 05:39:04 UTC 2022\n",
    "[oracle@wasensordb ~]$ sqlplus \"/as sysdba\"\n",
    "\n",
    "SQL*Plus: Release 19.0.0.0.0 - Production on Mon Dec 26 05:40:41 2022\n",
    "Version 19.17.0.0.0\n",
    "\n",
    "Copyright (c) 1982, 2022, Oracle.  All rights reserved.\n",
    "\n",
    "\n",
    "Connected to:\n",
    "Oracle Database 19c Standard Edition 2 Release 19.0.0.0.0 - Production\n",
    "Version 19.17.0.0.0\n",
    "\n",
    "SQL>\n",
    "```\n"
   ],
   "metadata": {
    "collapsed": false
   }
  },
  {
   "cell_type": "code",
   "execution_count": null,
   "outputs": [],
   "source": [],
   "metadata": {
    "collapsed": false
   }
  },
  {
   "cell_type": "code",
   "execution_count": 2,
   "outputs": [],
   "source": [
    "import pandas as pd"
   ],
   "metadata": {
    "collapsed": false
   }
  },
  {
   "cell_type": "code",
   "execution_count": 7,
   "outputs": [],
   "source": [
    "accel = pd.read_csv(r\"C:\\Users\\Kristopher\\OneDrive\\Data\\Motion Tracking\\Trailer\\2022_12_18\\Accelerometer.csv\")"
   ],
   "metadata": {
    "collapsed": false
   }
  },
  {
   "cell_type": "code",
   "execution_count": 9,
   "outputs": [
    {
     "data": {
      "text/plain": "               time  seconds_elapsed             z             y             x\ncount  7.132700e+04     71327.000000  71327.000000  71327.000000  71327.000000\nmean   1.671364e+18       359.243989     -0.365314      0.157944      0.119974\nstd    2.073823e+11       207.382277      2.824941      2.217995      2.410796\nmin    1.671363e+18         0.056589    -46.002200    -19.467845    -18.055764\n25%    1.671363e+18       179.649308     -1.505341     -0.775873     -1.073619\n50%    1.671364e+18       359.243521     -0.386049     -0.058835      0.027121\n75%    1.671364e+18       538.838387      0.538346      0.685534      1.171156\nmax    1.671364e+18       718.435233     72.246031     31.112234     21.706625",
      "text/html": "<div>\n<style scoped>\n    .dataframe tbody tr th:only-of-type {\n        vertical-align: middle;\n    }\n\n    .dataframe tbody tr th {\n        vertical-align: top;\n    }\n\n    .dataframe thead th {\n        text-align: right;\n    }\n</style>\n<table border=\"1\" class=\"dataframe\">\n  <thead>\n    <tr style=\"text-align: right;\">\n      <th></th>\n      <th>time</th>\n      <th>seconds_elapsed</th>\n      <th>z</th>\n      <th>y</th>\n      <th>x</th>\n    </tr>\n  </thead>\n  <tbody>\n    <tr>\n      <th>count</th>\n      <td>7.132700e+04</td>\n      <td>71327.000000</td>\n      <td>71327.000000</td>\n      <td>71327.000000</td>\n      <td>71327.000000</td>\n    </tr>\n    <tr>\n      <th>mean</th>\n      <td>1.671364e+18</td>\n      <td>359.243989</td>\n      <td>-0.365314</td>\n      <td>0.157944</td>\n      <td>0.119974</td>\n    </tr>\n    <tr>\n      <th>std</th>\n      <td>2.073823e+11</td>\n      <td>207.382277</td>\n      <td>2.824941</td>\n      <td>2.217995</td>\n      <td>2.410796</td>\n    </tr>\n    <tr>\n      <th>min</th>\n      <td>1.671363e+18</td>\n      <td>0.056589</td>\n      <td>-46.002200</td>\n      <td>-19.467845</td>\n      <td>-18.055764</td>\n    </tr>\n    <tr>\n      <th>25%</th>\n      <td>1.671363e+18</td>\n      <td>179.649308</td>\n      <td>-1.505341</td>\n      <td>-0.775873</td>\n      <td>-1.073619</td>\n    </tr>\n    <tr>\n      <th>50%</th>\n      <td>1.671364e+18</td>\n      <td>359.243521</td>\n      <td>-0.386049</td>\n      <td>-0.058835</td>\n      <td>0.027121</td>\n    </tr>\n    <tr>\n      <th>75%</th>\n      <td>1.671364e+18</td>\n      <td>538.838387</td>\n      <td>0.538346</td>\n      <td>0.685534</td>\n      <td>1.171156</td>\n    </tr>\n    <tr>\n      <th>max</th>\n      <td>1.671364e+18</td>\n      <td>718.435233</td>\n      <td>72.246031</td>\n      <td>31.112234</td>\n      <td>21.706625</td>\n    </tr>\n  </tbody>\n</table>\n</div>"
     },
     "execution_count": 9,
     "metadata": {},
     "output_type": "execute_result"
    }
   ],
   "source": [
    "accel.describe()"
   ],
   "metadata": {
    "collapsed": false
   }
  },
  {
   "cell_type": "code",
   "execution_count": 10,
   "outputs": [],
   "source": [
    "accel = accel.sort_values('time')\n"
   ],
   "metadata": {
    "collapsed": false
   }
  },
  {
   "cell_type": "code",
   "execution_count": 11,
   "outputs": [
    {
     "data": {
      "text/plain": "                   time  seconds_elapsed         z         y         x\n0   1671363197368588800         0.056589 -0.376807 -0.476102 -0.523271\n1   1671363197378659600         0.066660 -0.464536 -0.436861 -0.341396\n2   1671363197388730600         0.076731 -0.551742 -0.307449 -0.244851\n3   1671363197398802400         0.086802 -0.494316 -0.274486 -0.108583\n4   1671363197408873500         0.096874 -0.537938 -0.225641  0.013983\n5   1671363197418944500         0.106945 -0.472987 -0.072186  0.077271\n6   1671363197429015600         0.117016 -0.389872  0.182663  0.172772\n7   1671363197439086600         0.127087 -0.345035  0.343904  0.268157\n8   1671363197449157400         0.137157 -0.445262  0.394702  0.294982\n9   1671363197459228400         0.147229 -0.424998  0.325983  0.331410\n10  1671363197469299500         0.157300 -0.305893  0.252606  0.342019\n11  1671363197479371500         0.167372 -0.294437  0.205795  0.338953\n12  1671363197489442600         0.177443 -0.411169  0.239069  0.446330\n13  1671363197499513600         0.187514 -0.492800  0.298241  0.565851\n14  1671363197509584600         0.197585 -0.517701  0.262383  0.561145\n15  1671363197519658800         0.207659 -0.499030  0.244299  0.520111\n16  1671363197529729500         0.217729 -0.461530  0.241310  0.466060\n17  1671363197539800600         0.227801 -0.381702  0.188999  0.417289\n18  1671363197549871600         0.237872 -0.317470  0.233017  0.403906\n19  1671363197559943700         0.247944 -0.270774  0.286542  0.447498",
      "text/html": "<div>\n<style scoped>\n    .dataframe tbody tr th:only-of-type {\n        vertical-align: middle;\n    }\n\n    .dataframe tbody tr th {\n        vertical-align: top;\n    }\n\n    .dataframe thead th {\n        text-align: right;\n    }\n</style>\n<table border=\"1\" class=\"dataframe\">\n  <thead>\n    <tr style=\"text-align: right;\">\n      <th></th>\n      <th>time</th>\n      <th>seconds_elapsed</th>\n      <th>z</th>\n      <th>y</th>\n      <th>x</th>\n    </tr>\n  </thead>\n  <tbody>\n    <tr>\n      <th>0</th>\n      <td>1671363197368588800</td>\n      <td>0.056589</td>\n      <td>-0.376807</td>\n      <td>-0.476102</td>\n      <td>-0.523271</td>\n    </tr>\n    <tr>\n      <th>1</th>\n      <td>1671363197378659600</td>\n      <td>0.066660</td>\n      <td>-0.464536</td>\n      <td>-0.436861</td>\n      <td>-0.341396</td>\n    </tr>\n    <tr>\n      <th>2</th>\n      <td>1671363197388730600</td>\n      <td>0.076731</td>\n      <td>-0.551742</td>\n      <td>-0.307449</td>\n      <td>-0.244851</td>\n    </tr>\n    <tr>\n      <th>3</th>\n      <td>1671363197398802400</td>\n      <td>0.086802</td>\n      <td>-0.494316</td>\n      <td>-0.274486</td>\n      <td>-0.108583</td>\n    </tr>\n    <tr>\n      <th>4</th>\n      <td>1671363197408873500</td>\n      <td>0.096874</td>\n      <td>-0.537938</td>\n      <td>-0.225641</td>\n      <td>0.013983</td>\n    </tr>\n    <tr>\n      <th>5</th>\n      <td>1671363197418944500</td>\n      <td>0.106945</td>\n      <td>-0.472987</td>\n      <td>-0.072186</td>\n      <td>0.077271</td>\n    </tr>\n    <tr>\n      <th>6</th>\n      <td>1671363197429015600</td>\n      <td>0.117016</td>\n      <td>-0.389872</td>\n      <td>0.182663</td>\n      <td>0.172772</td>\n    </tr>\n    <tr>\n      <th>7</th>\n      <td>1671363197439086600</td>\n      <td>0.127087</td>\n      <td>-0.345035</td>\n      <td>0.343904</td>\n      <td>0.268157</td>\n    </tr>\n    <tr>\n      <th>8</th>\n      <td>1671363197449157400</td>\n      <td>0.137157</td>\n      <td>-0.445262</td>\n      <td>0.394702</td>\n      <td>0.294982</td>\n    </tr>\n    <tr>\n      <th>9</th>\n      <td>1671363197459228400</td>\n      <td>0.147229</td>\n      <td>-0.424998</td>\n      <td>0.325983</td>\n      <td>0.331410</td>\n    </tr>\n    <tr>\n      <th>10</th>\n      <td>1671363197469299500</td>\n      <td>0.157300</td>\n      <td>-0.305893</td>\n      <td>0.252606</td>\n      <td>0.342019</td>\n    </tr>\n    <tr>\n      <th>11</th>\n      <td>1671363197479371500</td>\n      <td>0.167372</td>\n      <td>-0.294437</td>\n      <td>0.205795</td>\n      <td>0.338953</td>\n    </tr>\n    <tr>\n      <th>12</th>\n      <td>1671363197489442600</td>\n      <td>0.177443</td>\n      <td>-0.411169</td>\n      <td>0.239069</td>\n      <td>0.446330</td>\n    </tr>\n    <tr>\n      <th>13</th>\n      <td>1671363197499513600</td>\n      <td>0.187514</td>\n      <td>-0.492800</td>\n      <td>0.298241</td>\n      <td>0.565851</td>\n    </tr>\n    <tr>\n      <th>14</th>\n      <td>1671363197509584600</td>\n      <td>0.197585</td>\n      <td>-0.517701</td>\n      <td>0.262383</td>\n      <td>0.561145</td>\n    </tr>\n    <tr>\n      <th>15</th>\n      <td>1671363197519658800</td>\n      <td>0.207659</td>\n      <td>-0.499030</td>\n      <td>0.244299</td>\n      <td>0.520111</td>\n    </tr>\n    <tr>\n      <th>16</th>\n      <td>1671363197529729500</td>\n      <td>0.217729</td>\n      <td>-0.461530</td>\n      <td>0.241310</td>\n      <td>0.466060</td>\n    </tr>\n    <tr>\n      <th>17</th>\n      <td>1671363197539800600</td>\n      <td>0.227801</td>\n      <td>-0.381702</td>\n      <td>0.188999</td>\n      <td>0.417289</td>\n    </tr>\n    <tr>\n      <th>18</th>\n      <td>1671363197549871600</td>\n      <td>0.237872</td>\n      <td>-0.317470</td>\n      <td>0.233017</td>\n      <td>0.403906</td>\n    </tr>\n    <tr>\n      <th>19</th>\n      <td>1671363197559943700</td>\n      <td>0.247944</td>\n      <td>-0.270774</td>\n      <td>0.286542</td>\n      <td>0.447498</td>\n    </tr>\n  </tbody>\n</table>\n</div>"
     },
     "execution_count": 11,
     "metadata": {},
     "output_type": "execute_result"
    }
   ],
   "source": [
    "accel.head(20)"
   ],
   "metadata": {
    "collapsed": false
   }
  },
  {
   "cell_type": "code",
   "execution_count": null,
   "outputs": [],
   "source": [],
   "metadata": {
    "collapsed": false
   }
  }
 ],
 "metadata": {
  "kernelspec": {
   "display_name": "Python 3",
   "language": "python",
   "name": "python3"
  },
  "language_info": {
   "codemirror_mode": {
    "name": "ipython",
    "version": 2
   },
   "file_extension": ".py",
   "mimetype": "text/x-python",
   "name": "python",
   "nbconvert_exporter": "python",
   "pygments_lexer": "ipython2",
   "version": "2.7.6"
  }
 },
 "nbformat": 4,
 "nbformat_minor": 0
}
